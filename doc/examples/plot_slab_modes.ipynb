{
  "cells": [
    {
      "cell_type": "markdown",
      "metadata": {},
      "source": [
        "\n# Slab quasi normal modes\n\nSolve the slab nonlinear eigenproblem and plot the quasi normal modes\n"
      ]
    },
    {
      "cell_type": "markdown",
      "metadata": {},
      "source": [
        "Imports and parameters\n\n"
      ]
    },
    {
      "cell_type": "code",
      "execution_count": null,
      "metadata": {
        "collapsed": false
      },
      "outputs": [],
      "source": [
        "import matplotlib.pyplot as plt\nimport pytmod as pm\nimport numpy as bk\nimport sys\n\nplt.ion()\nplt.close(\"all\")\n\n\nOmega = 1.3711034416945151\nOmega = 1\nNpad = 11\n\neps0 = 5.25\ndeps = 1\n\neps_fourier = [\n    -deps / (2 * 1j),\n    eps0,\n    deps / (2 * 1j),\n]\n# eps_fourier = [eps0]\n\nL = 2\nmat = pm.Material(eps_fourier, Omega, Npad)\nslab = pm.Slab(mat, L)\n\nomega0 = 0.65 - 0.32j\nomega1 = 0.92 - 0.019j\n\nnc = 101\n\nomegasr = bk.linspace(omega0.real, omega1.real, nc)\nomegasi = bk.linspace(omega0.imag, omega1.imag, nc)\n\nre, im = bk.meshgrid(omegasr, omegasi)\nomegas = re + 1j * im\n\n# for Omega in bk.linspace(0.1, 1.7, 51):\n#     Nh = mat.Nh\n#     Nh = 50\n#     M = 50\n#     ms = bk.arange(-M, M+1)\n#     eigenvalue_static = slab.eigenvalue_static(ms)\n#     static_evs = []\n#     for n in range(-Nh, Nh + 1):\n#         static_evs.append(eigenvalue_static-n*Omega)\n#     static_evs = bk.array(static_evs)\n#     plt.plot(static_evs.real, static_evs.imag, \".g\")\n#     plt.plot(eigenvalue_static.real, eigenvalue_static.imag, \"or\")\n#     plt.axvline(Omega)\n\n#     plt.xlim(omegasr[0], omegasr[-1])\n#     plt.ylim(omegasi[0], omegasi[-1])\n#     plt.xlabel(r\"Re $\\omega/\\Omega$\")\n#     plt.ylabel(r\"Im $\\omega/\\Omega$\")\n#     plt.pause(0.1)\n#     plt.clf()\n\n\n# sys.exit(0)\n\n\nevs, modes = slab.eigensolve(\n    omega0,\n    omega1,\n    peak_ref=6,\n    recursive=True,\n    tol=1e-6,\n    plot_solver=True,\n    # peaks_estimate=\"det\",\n)\n\nprint(\"eigenvalues:\")\nprint(evs)\nevs = bk.array(evs)\nNevs = len(evs)\n\nplt.figure()\n\n\nkns, ens = mat.eigensolve(omegas)\nmatrix_slab_c = slab.build_matrix(omegas, kns, ens)\nmatrix_slab_c = bk.transpose(matrix_slab_c, (2, 3, 0, 1))\n\nD = bk.linalg.det(matrix_slab_c)\n# D = bk.min(bk.abs(bk.linalg.eigvals(matrix_slab_c)), axis=-1)\n\nplt.pcolormesh(omegasr / Omega, omegasi / Omega, bk.log10(bk.abs(D)), cmap=\"inferno\")\nplt.colorbar()\nplt.title(r\"det $M(\\omega)$\")\nfor i in range(0, 10):\n    eigenvalue_static = slab.eigenvalue_static(i)\n    plt.plot(eigenvalue_static.real / Omega, eigenvalue_static.imag / Omega, \"xg\")\n\n\nif Nevs != 0:\n    plt.plot(evs.real / Omega, evs.imag / Omega, \"+w\")\nplt.xlim(omegasr[0] / Omega, omegasr[-1] / Omega)\nplt.ylim(omegasi[0] / Omega, omegasi[-1] / Omega)\nplt.xlabel(r\"Re $\\omega/\\Omega$\")\nplt.ylabel(r\"Im $\\omega/\\Omega$\")\nplt.pause(0.1)\n\nNh = mat.Nh\nfor i in range(-50, 50):\n    eigenvalue_static = slab.eigenvalue_static(i)\n    for n in range(-Nh, Nh + 1):\n        plt.plot(\n            eigenvalue_static.real / Omega - n, eigenvalue_static.imag / Omega, \"xg\"\n        )\n\n\nif Nevs != 0:\n    kns_eig, ens_eig = mat.eigensolve(evs)\n    matrix_slab_eig = slab.build_matrix(evs, kns_eig, ens_eig)\n    matrix_slab_eig = bk.transpose(matrix_slab_eig, (2, 0, 1))\n    Deig = bk.linalg.det(matrix_slab_eig)\n\n    print(\"det(eigenvalues):\")\n    print(bk.abs(Deig))"
      ]
    },
    {
      "cell_type": "markdown",
      "metadata": {},
      "source": [
        "Get the field\n\n"
      ]
    },
    {
      "cell_type": "code",
      "execution_count": null,
      "metadata": {
        "collapsed": false
      },
      "outputs": [],
      "source": [
        "T = mat.modulation_period\nt = bk.linspace(0, 3 * T, 300)\nLhom = 6 * L\nx = bk.linspace(-Lhom, Lhom + L, 1000)\n\nqnms = []\nfor imode in range(Nevs):\n    omega = evs[imode]\n    solution = modes[:, imode]\n    kns, ens = mat.eigensolve(omega)\n    Eis = slab.init_incident_field(omega)\n    psi = slab.extract_coefficients(solution, Eis, kns, ens)\n    E = slab.get_scattered_field(x, t, omega, psi, kns, ens)\n    qnms.append(E)"
      ]
    },
    {
      "cell_type": "markdown",
      "metadata": {},
      "source": [
        "Plot QNMs\n\n"
      ]
    },
    {
      "cell_type": "code",
      "execution_count": null,
      "metadata": {
        "collapsed": false
      },
      "outputs": [],
      "source": [
        "plt.figure()\nfor imode in range(Nevs):\n    mode = qnms[imode][:, 0].real\n    mode /= bk.max(bk.abs(mode)) * 2\n    plt.plot(x / L - 0.5, 1 * imode + mode.real)\nplt.axvline(-0.5, color=\"#949494\", lw=1)\nplt.axvline(0.5, color=\"#949494\", lw=1)\nplt.xlabel(\"$x/L$\")\nplt.ylabel(\"$E(t=0)$\")\nplt.tight_layout()\nplt.show()"
      ]
    },
    {
      "cell_type": "markdown",
      "metadata": {},
      "source": [
        "Animate the field\n\n"
      ]
    },
    {
      "cell_type": "code",
      "execution_count": null,
      "metadata": {
        "collapsed": false
      },
      "outputs": [],
      "source": [
        "anim = slab.animate_field(x, t, qnms[0])"
      ]
    },
    {
      "cell_type": "markdown",
      "metadata": {},
      "source": [
        "Space time map\n\n"
      ]
    },
    {
      "cell_type": "code",
      "execution_count": null,
      "metadata": {
        "collapsed": false
      },
      "outputs": [],
      "source": [
        "plt.figure()\nplt.pcolormesh(x / L - 0.5, t / T, bk.real(qnms[0].T), cmap=\"RdBu_r\")\nplt.axvline(-0.5, color=\"#949494\", lw=1)\nplt.axvline(0.5, color=\"#949494\", lw=1)\nplt.ylim(0, t[-1] / T)\nplt.xlabel(\"$x/L$\")\nplt.ylabel(\"$t/T$\")\ncb = plt.colorbar()\ncb.ax.set_title(\"Re $E$\")\nplt.tight_layout()\nplt.show()"
      ]
    }
  ],
  "metadata": {
    "kernelspec": {
      "display_name": "Python 3",
      "language": "python",
      "name": "python3"
    },
    "language_info": {
      "codemirror_mode": {
        "name": "ipython",
        "version": 3
      },
      "file_extension": ".py",
      "mimetype": "text/x-python",
      "name": "python",
      "nbconvert_exporter": "python",
      "pygments_lexer": "ipython3",
      "version": "3.13.1"
    }
  },
  "nbformat": 4,
  "nbformat_minor": 0
}