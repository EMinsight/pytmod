{
  "cells": [
    {
      "cell_type": "markdown",
      "metadata": {},
      "source": [
        "\n# Slab\n\nA simple example.\n"
      ]
    },
    {
      "cell_type": "markdown",
      "metadata": {},
      "source": [
        "Check results from :cite:t:`zurita-sanchez2009`\n\n"
      ]
    },
    {
      "cell_type": "code",
      "execution_count": null,
      "metadata": {
        "collapsed": false
      },
      "outputs": [],
      "source": [
        "import matplotlib.pyplot as plt\nimport pytmod as pm\nimport numpy as bk\n\nplt.ion()\nplt.close(\"all\")\n\n\neps0 = 5.25\nOmega = 1\nNpad = 5\n\nNomega = 500\nomegas = bk.linspace(0, 1 * Omega, Nomega)\n\n\ndef get_eps_fourier(deps):\n    eps_fourier = [\n        -deps / (2 * 1j),\n        eps0,\n        deps / (2 * 1j),\n    ]\n    return eps_fourier"
      ]
    },
    {
      "cell_type": "markdown",
      "metadata": {},
      "source": [
        "Figure 3\n\n"
      ]
    },
    {
      "cell_type": "code",
      "execution_count": null,
      "metadata": {
        "collapsed": false
      },
      "outputs": [],
      "source": [
        "fig3, ax3 = plt.subplots(3, 1, figsize=(4, 9))\nfor i, deps in enumerate([0.085, 0.85, 3.4]):\n    eps_fourier = get_eps_fourier(deps)\n    mat = pm.Material(eps_fourier, Omega, Npad)\n    kns, ens = mat.eigensolve(omegas)\n    ax3[i].plot(\n        kns.T.real / eps0**0.5, omegas.real / Omega, \".\", c=\"#5000ca\", ms=3, mew=0\n    )\n    ax3[i].set_xlim(0, 3)\n    ax3[i].set_ylim(0, 1)\n    ax3[i].set_title(rf\"$\\Delta \\epsilon = {deps}$\")\n\nfig3.supxlabel(r\"normalized wave vector $kc/(\\Omega\\sqrt{\\epsilon_0)}$\")\nfig3.supylabel(r\"normalized frequency $\\omega/\\Omega$\")\nfig3.tight_layout()"
      ]
    },
    {
      "cell_type": "markdown",
      "metadata": {},
      "source": [
        "Figures 4 and 5\n\n"
      ]
    },
    {
      "cell_type": "code",
      "execution_count": null,
      "metadata": {
        "collapsed": false
      },
      "outputs": [],
      "source": [
        "Nomega = 1500\nomegas = bk.linspace(0.0001, 10 + 0.00001 * Omega, Nomega)\n\nNharmo_plot = 0\n\nfig4, ax4 = plt.subplots(2, 2)\nfig5, ax5 = plt.subplots(2, 2)\n\nfor i, Ln in enumerate([0.5, 2]):\n    for j, deps in enumerate([0.085, 0.85]):\n        L = Ln / eps0**0.5 / Omega\n        eps_fourier = get_eps_fourier(deps)\n        mat = pm.Material(eps_fourier, Omega, Npad)\n        kns, ens = mat.eigensolve(omegas)\n        slab = pm.Slab(mat, L)\n        matrix_slab = slab.build_matrix(omegas, kns, ens)\n        Eis = bk.zeros((slab.material.nh,) + omegas.shape, dtype=bk.complex128)\n        Ei0 = 1\n        Eis[mat.Nh] = Ei0\n        rhs_slab = slab.build_rhs(omegas, Eis)\n        solution = slab.solve(matrix_slab, rhs_slab)\n        C, D, Er, Et = slab.extract_coefficients(solution, Eis, kns, ens)\n        rn = Er / Ei0\n        tn = Et / Ei0\n\n        imode = mat.Nh + Nharmo_plot\n        r_ = bk.abs(rn[imode])\n        t_ = bk.abs(tn[imode])\n        ax4[i, j].plot(omegas, t_, \"-\", c=\"#5000ca\", label=rf\"$t$\")\n        ax4[i, j].plot(omegas, r_, \"-\", c=\"#e49649\", label=rf\"$r$\")\n        ax4[i, j].set_title(rf\"$L_N = {Ln}, $n=${Nharmo_plot}$\")\n        ax4[i, j].set_ylim(0, 1)\n        ax4[i, j].set_xlim(0, 10)\n\n        r_ = bk.angle(rn[imode]) / bk.pi\n        t_ = bk.angle(tn[imode]) / bk.pi\n        ax5[i, j].plot(omegas, t_, \"-\", c=\"#5000ca\", label=rf\"$t$\")\n        ax5[i, j].plot(omegas, r_, \"-\", c=\"#e49649\", label=rf\"$r$\")\n        ax5[i, j].set_title(rf\"$L_N = {Ln}, $n=${Nharmo_plot}$\")\n        ax5[i, j].set_ylim(-1, 1)\n        ax5[i, j].set_xlim(0, 10)\n\nax4[0, 1].legend()\nax5[0, 1].legend()\nfig4.supxlabel(r\"normalized frequency $\\omega_0/\\Omega$\")\nfig4.supylabel(rf\"magnitude\")\nfig5.supxlabel(r\"normalized frequency $\\omega_0/\\Omega$\")\nfig5.supylabel(rf\"phase\")\nfig4.tight_layout()\nfig5.tight_layout()"
      ]
    },
    {
      "cell_type": "markdown",
      "metadata": {},
      "source": [
        "Figures 6 and 7\n\n"
      ]
    },
    {
      "cell_type": "code",
      "execution_count": null,
      "metadata": {
        "collapsed": false
      },
      "outputs": [],
      "source": [
        "fig6, ax6 = plt.subplots(2, 2)\nfig7, ax7 = plt.subplots(2, 2)\n\n\ndeps = 0.085\nfor i, Ln in enumerate([0.5, 8]):\n    L = Ln / eps0**0.5 / Omega\n    eps_fourier = get_eps_fourier(deps)\n    mat = pm.Material(eps_fourier, Omega, Npad)\n    kns, ens = mat.eigensolve(omegas)\n    slab = pm.Slab(mat, L)\n    matrix_slab = slab.build_matrix(omegas, kns, ens)\n    Eis = bk.zeros((slab.material.nh,) + omegas.shape, dtype=bk.complex128)\n    Ei0 = 1\n    Eis[mat.Nh] = Ei0\n    rhs_slab = slab.build_rhs(omegas, Eis)\n    solution = slab.solve(matrix_slab, rhs_slab)\n    C, D, Er, Et = slab.extract_coefficients(solution, Eis, kns, ens)\n    rn = Er / Ei0\n    tn = Et / Ei0\n    for j, Nharmo_plot in enumerate([1, -1]):\n        imode = mat.Nh + Nharmo_plot\n        r_ = bk.abs(rn[imode])\n        t_ = bk.abs(tn[imode])\n        ax6[i, j].plot(omegas, t_, \"-\", c=\"#5000ca\", label=rf\"$t$\")\n        ax6[i, j].plot(omegas, r_, \"-\", c=\"#e49649\", label=rf\"$r$\")\n        ax6[i, j].set_title(rf\"$L_N = {Ln}, $n=${Nharmo_plot}$\")\n        ax6[i, j].set_ylim(0)\n        ax6[i, j].set_xlim(0, 10)\n\n        r_ = bk.angle(rn[imode]) / bk.pi\n        t_ = bk.angle(tn[imode]) / bk.pi\n        ax7[i, j].plot(omegas, t_, \"-\", c=\"#5000ca\", label=rf\"$t$\")\n        ax7[i, j].plot(omegas, r_, \"-\", c=\"#e49649\", label=rf\"$r$\")\n        ax7[i, j].set_title(rf\"$L_N = {Ln}, $n=${Nharmo_plot}$\")\n        ax7[i, j].set_ylim(-1, 1)\n        xmax = 2 if Ln == 8 else 10\n        ax7[i, j].set_xlim(0, xmax)\n        if i != 1:\n            ax6[i, j].set_xticklabels([])\n            ax7[i, j].set_xticklabels([])\n\nax6[0, 1].legend()\nax7[0, 1].legend()\nfig6.supxlabel(r\"normalized frequency $\\omega_0/\\Omega$\")\nfig6.supylabel(rf\"magnitude\")\nfig7.supxlabel(r\"normalized frequency $\\omega_0/\\Omega$\")\nfig7.supylabel(rf\"phase\")\nfig6.tight_layout()\nfig7.tight_layout()"
      ]
    },
    {
      "cell_type": "markdown",
      "metadata": {},
      "source": [
        "Figures 8 and 9\n\n"
      ]
    },
    {
      "cell_type": "code",
      "execution_count": null,
      "metadata": {
        "collapsed": false
      },
      "outputs": [],
      "source": [
        "fig8, ax8 = plt.subplots(4, 2, figsize=(6, 9))\nfig9, ax9 = plt.subplots(4, 2, figsize=(6, 9))\n\n\ndeps = 0.85\nfor j, Ln in enumerate([0.5, 8]):\n    L = Ln / eps0**0.5 / Omega\n    eps_fourier = get_eps_fourier(deps)\n    mat = pm.Material(eps_fourier, Omega, Npad)\n    kns, ens = mat.eigensolve(omegas)\n    slab = pm.Slab(mat, L)\n    matrix_slab = slab.build_matrix(omegas, kns, ens)\n    Eis = bk.zeros((slab.material.nh,) + omegas.shape, dtype=bk.complex128)\n    Ei0 = 1\n    Eis[mat.Nh] = Ei0\n    rhs_slab = slab.build_rhs(omegas, Eis)\n    solution = slab.solve(matrix_slab, rhs_slab)\n    C, D, Er, Et = slab.extract_coefficients(solution, Eis, kns, ens)\n    rn = Er / Ei0\n    tn = Et / Ei0\n    for i, Nharmo_plot in enumerate([1, -1, 2, -2]):\n        imode = mat.Nh + Nharmo_plot\n        r_ = bk.abs(rn[imode])\n        t_ = bk.abs(tn[imode])\n        ax8[i, j].plot(omegas, t_, \"-\", c=\"#5000ca\", label=rf\"$t$\")\n        ax8[i, j].plot(omegas, r_, \"-\", c=\"#e49649\", label=rf\"$r$\")\n        ax8[i, j].set_title(rf\"$L_N = {Ln}, n = {Nharmo_plot}$\")\n        ax8[i, j].set_ylim(0)\n        ax8[i, j].set_xlim(0, 10)\n\n        r_ = bk.angle(rn[imode]) / bk.pi\n        t_ = bk.angle(tn[imode]) / bk.pi\n        ax9[i, j].plot(omegas, t_, \"-\", c=\"#5000ca\", label=rf\"$t$\")\n        ax9[i, j].plot(omegas, r_, \"-\", c=\"#e49649\", label=rf\"$r$\")\n        ax9[i, j].set_title(rf\"$L_N = {Ln}, n = {Nharmo_plot}$\")\n        ax9[i, j].set_ylim(-1, 1)\n        xmax = 2 if Ln == 8 else 10\n        ax9[i, j].set_xlim(0, xmax)\n        if (i, j) != (3, 0) and (i, j) != (3, 1):\n            ax8[i, j].set_xticklabels([])\n            ax9[i, j].set_xticklabels([])\n\nax8[1, 0].legend()\nax9[1, 0].legend()\nfig8.supxlabel(r\"normalized frequency $\\omega_0/\\Omega$\")\nfig8.supylabel(rf\"magnitude\")\nfig9.supxlabel(r\"normalized frequency $\\omega_0/\\Omega$\")\nfig9.supylabel(rf\"phase\")\n\nfig8.tight_layout()\nfig9.tight_layout()"
      ]
    }
  ],
  "metadata": {
    "kernelspec": {
      "display_name": "Python 3",
      "language": "python",
      "name": "python3"
    },
    "language_info": {
      "codemirror_mode": {
        "name": "ipython",
        "version": 3
      },
      "file_extension": ".py",
      "mimetype": "text/x-python",
      "name": "python",
      "nbconvert_exporter": "python",
      "pygments_lexer": "ipython3",
      "version": "3.13.1"
    }
  },
  "nbformat": 4,
  "nbformat_minor": 0
}