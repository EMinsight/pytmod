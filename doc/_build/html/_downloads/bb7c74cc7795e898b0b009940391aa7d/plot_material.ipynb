{
  "cells": [
    {
      "cell_type": "markdown",
      "metadata": {},
      "source": [
        "\n# Time modulated material\n\nWe will learn how to build a time modulated material and how to calculate the\neigenvalues and eigenvectors of this material.\n"
      ]
    },
    {
      "cell_type": "markdown",
      "metadata": {},
      "source": [
        "Check results from :cite:t:`zurita-sanchez2009`\n\n"
      ]
    },
    {
      "cell_type": "code",
      "execution_count": null,
      "metadata": {
        "collapsed": false
      },
      "outputs": [],
      "source": [
        "import matplotlib as mpl\nimport matplotlib.pyplot as plt\nimport pytmod as pm\nimport numpy as bk\n\nplt.ion()\nplt.close(\"all\")"
      ]
    },
    {
      "cell_type": "markdown",
      "metadata": {},
      "source": [
        "We define the modulation as $\\epsilon = \\epsilon_0 + \\Delta\\epsilon \\sin(\\Omega t)$\n\n"
      ]
    },
    {
      "cell_type": "code",
      "execution_count": null,
      "metadata": {
        "collapsed": false
      },
      "outputs": [],
      "source": [
        "Omega = 1\neps0 = 5.25\ndeps = 4\n\n\neps_fourier = [\n    -deps / (2 * 1j),\n    eps0,\n    deps / (2 * 1j),\n]\n\nmat = pm.Material(eps_fourier, Omega)\n\nT = mat.modulation_period\n\nt = bk.linspace(0, 3 * T, 3000)\neps_time = mat.get_eps_time(t)\n\nplt.figure()\nplt.plot(t / T, eps_time.real, c=\"#c24c4c\")\nplt.xlabel(r\"$t/T$\")\nplt.ylabel(r\"Re $\\epsilon(t)$\")\nplt.xlim(0, 3)\nplt.show()"
      ]
    },
    {
      "cell_type": "markdown",
      "metadata": {},
      "source": [
        "Compute the eigenvalues and eigenvectors of the material\n\n"
      ]
    },
    {
      "cell_type": "code",
      "execution_count": null,
      "metadata": {
        "collapsed": false
      },
      "outputs": [],
      "source": [
        "omega = 0.8\nkns, ens = mat.eigensolve(omega)"
      ]
    },
    {
      "cell_type": "markdown",
      "metadata": {},
      "source": [
        "The eigenvalues are\n\n"
      ]
    },
    {
      "cell_type": "code",
      "execution_count": null,
      "metadata": {
        "collapsed": false
      },
      "outputs": [],
      "source": [
        "print(kns.real)"
      ]
    },
    {
      "cell_type": "markdown",
      "metadata": {},
      "source": [
        "We plot the eigenmodes in the time domain\n\n"
      ]
    },
    {
      "cell_type": "code",
      "execution_count": null,
      "metadata": {
        "collapsed": false
      },
      "outputs": [],
      "source": [
        "plt.figure()\nfor i in range(len(kns)):\n    kn = kns[i].real\n    mode = ens[i]\n    mode_time = mat.freq2time(mode, t)\n    plt.plot(t / T, mode_time.real, label=i)\n    plt.xlabel(r\"$t/T$\")\n    plt.ylabel(r\"Re $e_n(t)$\")\n    plt.xlim(0, 3)\n    plt.legend()\n    plt.show()"
      ]
    },
    {
      "cell_type": "markdown",
      "metadata": {},
      "source": [
        "Lets's study the convergence with respect to the truncation of the Fourier series\n\n"
      ]
    },
    {
      "cell_type": "code",
      "execution_count": null,
      "metadata": {
        "collapsed": false
      },
      "outputs": [],
      "source": [
        "Nmax = 15\nNpads = range(Nmax)\nev_cv = []\nen_cv = []\nfor Npad in Npads:\n    mat = pm.Material(eps_fourier, Omega, Npad=Npad)\n    kns, ens = mat.eigensolve(omega)\n    idx = bk.argsort(kns)\n    kns = kns[idx]\n    ens = ens[:, idx]\n\n    ev_cv.append(kns[:3].real)\n    modes_time = []\n    for i in range(3):\n        mode = ens[:, i]\n        mode_time = mat.freq2time(mode, t)\n        modes_time.append(mode_time)\n    en_cv.append(modes_time)\nev_cv = bk.array(ev_cv)\nen_cv = bk.array(en_cv)"
      ]
    },
    {
      "cell_type": "markdown",
      "metadata": {},
      "source": [
        "Eigenvalues convergence\n\n"
      ]
    },
    {
      "cell_type": "code",
      "execution_count": null,
      "metadata": {
        "collapsed": false
      },
      "outputs": [],
      "source": [
        "Ns = 3 + 2 * bk.array(Npads)\n\n\nplt.figure()\nfor i in range(3):\n    plt.plot(Ns, ev_cv[:, i], label=i)\nplt.xlabel(\"$N$\")\nplt.ylabel(\"eigenvalue\")\nplt.legend()\nplt.show()"
      ]
    },
    {
      "cell_type": "markdown",
      "metadata": {},
      "source": [
        "Relative error\n\n"
      ]
    },
    {
      "cell_type": "code",
      "execution_count": null,
      "metadata": {
        "collapsed": false
      },
      "outputs": [],
      "source": [
        "mat = pm.Material(eps_fourier, Omega, Npad=100)\nkns, ens = mat.eigensolve(omega)\nidx = bk.argsort(kns)\nkns = kns[idx]\nens = ens[:, idx]\nevs_check = kns[:3].real\nens_check = ens[::3].real\n\n\n\nplt.figure()\nfor i in range(3):\n    plt.plot(Ns, bk.abs(1 - ev_cv[:, i] / evs_check[i]), label=i)\n    plt.yscale(\"log\")\n    plt.tight_layout()\n    plt.show()\n\n\n# _x = bk.linspace(3, 2*Nmax+1, 100)\n# plt.plot(_x, bk.exp(-_x), \"--k\")\nplt.xlabel(\"$N$\")\nplt.ylabel(\"relative error\")\nplt.xlim(3, 21)\nxticks = bk.arange(3, 2*Nmax+2, 2)\nplt.xticks(xticks, xticks)\nplt.legend()\nplt.tight_layout()\nplt.show()"
      ]
    },
    {
      "cell_type": "markdown",
      "metadata": {},
      "source": [
        "Eigenstates convergence\n\n"
      ]
    },
    {
      "cell_type": "code",
      "execution_count": null,
      "metadata": {
        "collapsed": false
      },
      "outputs": [],
      "source": [
        "cmap = mpl.colormaps[\"Blues\"]\ncolors = cmap(bk.linspace(0, 1, 11)[1:])\n\nfor i in range(3):\n    plt.figure()\n    plt.title(i)\n    for j in range(10):\n        plt.plot(t/T, en_cv[j, i].T.real, c=colors[j])\n        plt.pause(0.01)\n    plt.xlim(0, 3)\n    plt.xlabel(\"$t/T$\")\n    plt.ylabel(\"mode\")\n    plt.tight_layout()\n    plt.show()"
      ]
    }
  ],
  "metadata": {
    "kernelspec": {
      "display_name": "Python 3",
      "language": "python",
      "name": "python3"
    },
    "language_info": {
      "codemirror_mode": {
        "name": "ipython",
        "version": 3
      },
      "file_extension": ".py",
      "mimetype": "text/x-python",
      "name": "python",
      "nbconvert_exporter": "python",
      "pygments_lexer": "ipython3",
      "version": "3.13.1"
    }
  },
  "nbformat": 4,
  "nbformat_minor": 0
}