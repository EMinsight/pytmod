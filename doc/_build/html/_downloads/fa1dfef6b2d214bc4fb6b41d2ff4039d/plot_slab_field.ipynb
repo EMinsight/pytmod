{
  "cells": [
    {
      "cell_type": "markdown",
      "metadata": {},
      "source": [
        "\n# Electric field in a time-modulated slab\n\nCalculate the field in response to an incident plane wave.\n"
      ]
    },
    {
      "cell_type": "markdown",
      "metadata": {},
      "source": [
        "First import the packages\n\n"
      ]
    },
    {
      "cell_type": "code",
      "execution_count": null,
      "metadata": {
        "collapsed": false
      },
      "outputs": [],
      "source": [
        "import matplotlib.pyplot as plt\nimport matplotlib.animation as animation\nimport pytmod as pm\nimport numpy as bk\n\nplt.ion()\nplt.close(\"all\")"
      ]
    },
    {
      "cell_type": "markdown",
      "metadata": {},
      "source": [
        "Define the parameters\n\n"
      ]
    },
    {
      "cell_type": "code",
      "execution_count": null,
      "metadata": {
        "collapsed": false
      },
      "outputs": [],
      "source": [
        "eps0 = 5.25\ndeps = 2\nOmega = 1\nNpad = 7\nEi0 = 1\nL = 5\n\nomega = 1.0 * Omega + 1e-12\n\neps_fourier = [\n    -deps / (2 * 1j),\n    eps0,\n    deps / (2 * 1j),\n]\n\n# eps_fourier = [eps0]"
      ]
    },
    {
      "cell_type": "markdown",
      "metadata": {},
      "source": [
        "Solve material eigenproblem\n\n"
      ]
    },
    {
      "cell_type": "code",
      "execution_count": null,
      "metadata": {
        "collapsed": false
      },
      "outputs": [],
      "source": [
        "mat = pm.Material(eps_fourier, Omega, Npad)\nkns, ens = mat.eigensolve(omega)\nslab = pm.Slab(mat, L)"
      ]
    },
    {
      "cell_type": "markdown",
      "metadata": {},
      "source": [
        "Build the matrix for the slab\n\n"
      ]
    },
    {
      "cell_type": "code",
      "execution_count": null,
      "metadata": {
        "collapsed": false
      },
      "outputs": [],
      "source": [
        "matrix_slab = slab.build_matrix(omega, kns, ens)"
      ]
    },
    {
      "cell_type": "markdown",
      "metadata": {},
      "source": [
        "Build the rhs for the slab\n\n"
      ]
    },
    {
      "cell_type": "code",
      "execution_count": null,
      "metadata": {
        "collapsed": false
      },
      "outputs": [],
      "source": [
        "Eis = slab.init_incident_field(omega)\nNinc = mat.Nh\nEis[Ninc] = Ei0\nrhs_slab = slab.build_rhs(omega, Eis)"
      ]
    },
    {
      "cell_type": "markdown",
      "metadata": {},
      "source": [
        "Solve slab problem\n\n"
      ]
    },
    {
      "cell_type": "code",
      "execution_count": null,
      "metadata": {
        "collapsed": false
      },
      "outputs": [],
      "source": [
        "solution = slab.solve(matrix_slab, rhs_slab)"
      ]
    },
    {
      "cell_type": "markdown",
      "metadata": {},
      "source": [
        "Extract field coefficients\n\n"
      ]
    },
    {
      "cell_type": "code",
      "execution_count": null,
      "metadata": {
        "collapsed": false
      },
      "outputs": [],
      "source": [
        "Eslab_plus, Eslab_minus, Er, Et = slab.extract_coefficients(solution, Eis, kns, ens)"
      ]
    },
    {
      "cell_type": "markdown",
      "metadata": {},
      "source": [
        "Extract reflection and transmission coefficients\n\n"
      ]
    },
    {
      "cell_type": "code",
      "execution_count": null,
      "metadata": {
        "collapsed": false
      },
      "outputs": [],
      "source": [
        "rn = Er / Ei0\ntn = Et / Ei0\n\n\nimport pandas as pd\n\npd.set_option(\"display.float_format\", lambda x: f\"{x:.4e}\")\n\nRn = bk.abs(rn) ** 2\nTn = bk.abs(tn) ** 2\n\ndf = pd.DataFrame(\n    data={\"r_n\": rn, \"t_n\": tn, \"R_n\": Rn, \"T_n\": Tn}, index=range(-mat.Nh, mat.Nh + 1)\n)\n# df.index.name = \"n\"\ndf"
      ]
    },
    {
      "cell_type": "markdown",
      "metadata": {},
      "source": [
        "Total reflection and transmission coefficients\n\n"
      ]
    },
    {
      "cell_type": "code",
      "execution_count": null,
      "metadata": {
        "collapsed": false
      },
      "outputs": [],
      "source": [
        "R = bk.sum(Rn)\nT = bk.sum(Tn)\n\ndf_sum = pd.DataFrame(data={\"R\": R, \"T\": T, \"Balance\": R + T}, index=[\"\"])\ndf_sum\n\n\nprint(df)\nprint(df_sum)"
      ]
    },
    {
      "cell_type": "markdown",
      "metadata": {},
      "source": [
        "Get the field\n\n"
      ]
    },
    {
      "cell_type": "code",
      "execution_count": null,
      "metadata": {
        "collapsed": false
      },
      "outputs": [],
      "source": [
        "T0 = 2 * bk.pi / omega\nT = mat.modulation_period\nt = bk.linspace(0, 3 * T, 300)\nLhom = 3 * L\nx = bk.linspace(-Lhom, Lhom + L, 1000)\npsi = Eslab_plus, Eslab_minus, Er, Et\nEs = slab.get_scattered_field(x, t, omega, psi, kns, ens)\nEinc = slab.get_incident_field(x, t, omega, Eis)\nE = Einc + Es"
      ]
    },
    {
      "cell_type": "markdown",
      "metadata": {},
      "source": [
        "Animate the field\n\n"
      ]
    },
    {
      "cell_type": "code",
      "execution_count": null,
      "metadata": {
        "collapsed": false
      },
      "outputs": [],
      "source": [
        "fig, ax = plt.subplots()\nax.set_title(rf\"$\\omega = {omega/Omega}\\,\\Omega$\")\nanim = slab.animate_field(x, t, E, (fig, ax))\n\n# writer = animation.PillowWriter(fps=15,\n#                                 metadata=dict(artist='pytmod'),\n#                                 bitrate=1800)\n# anim.save('field.gif', writer=writer)"
      ]
    },
    {
      "cell_type": "markdown",
      "metadata": {},
      "source": [
        "Space time map\n\n"
      ]
    },
    {
      "cell_type": "code",
      "execution_count": null,
      "metadata": {
        "collapsed": false
      },
      "outputs": [],
      "source": [
        "plt.figure()\nplt.pcolormesh(x / L - 0.5, t / T, bk.real(E.T), cmap=\"RdBu_r\")\nplt.axvline(-0.5, color=\"#949494\", lw=1)\nplt.axvline(0.5, color=\"#949494\", lw=1)\n# for i in range(5):\n#     plt.axhline(i, color=\"#949494\", lw=1, ls=\":\")\n#     plt.axhline(i * T0 / T, color=\"#949494\", lw=1, ls=\"--\")\n\nplt.ylim(0, t[-1] / T)\nplt.xlabel(\"$x/L$\")\nplt.ylabel(\"$t/T$\")\ncb = plt.colorbar()\ncb.ax.set_title(\"Re $E$\")\nplt.tight_layout()\nplt.show()"
      ]
    }
  ],
  "metadata": {
    "kernelspec": {
      "display_name": "Python 3",
      "language": "python",
      "name": "python3"
    },
    "language_info": {
      "codemirror_mode": {
        "name": "ipython",
        "version": 3
      },
      "file_extension": ".py",
      "mimetype": "text/x-python",
      "name": "python",
      "nbconvert_exporter": "python",
      "pygments_lexer": "ipython3",
      "version": "3.13.1"
    }
  },
  "nbformat": 4,
  "nbformat_minor": 0
}